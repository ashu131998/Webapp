{
  "nbformat": 4,
  "nbformat_minor": 0,
  "metadata": {
    "colab": {
      "name": "Untitled1.ipynb",
      "provenance": [],
      "collapsed_sections": [],
      "authorship_tag": "ABX9TyN7LcDhHI0t9j9eha13qSgv",
      "include_colab_link": true
    },
    "kernelspec": {
      "name": "python3",
      "display_name": "Python 3"
    }
  },
  "cells": [
    {
      "cell_type": "markdown",
      "metadata": {
        "id": "view-in-github",
        "colab_type": "text"
      },
      "source": [
        "<a href=\"https://colab.research.google.com/github/ashu131998/Webapp/blob/master/Classification.ipynb\" target=\"_parent\"><img src=\"https://colab.research.google.com/assets/colab-badge.svg\" alt=\"Open In Colab\"/></a>"
      ]
    },
    {
      "cell_type": "code",
      "metadata": {
        "id": "Nb6nVPrBo4GO",
        "colab_type": "code",
        "colab": {}
      },
      "source": [
        "import numpy as np\n",
        "import pandas as pd\n",
        "%matplotlib inline\n",
        "import matplotlib.pyplot as plt\n",
        "from sklearn.metrics import accuracy_score, confusion_matrix, roc_curve, roc_auc_score\n",
        "from sklearn.model_selection import train_test_split, GridSearchCV\n",
        "import keras\n",
        "from keras.models import Sequential\n",
        "from keras.layers import Dense, Dropout, Flatten\n",
        "from keras.layers.convolutional import Conv2D, MaxPooling2D\n",
        "from keras.utils import np_utils\n",
        "from keras import backend as K"
      ],
      "execution_count": null,
      "outputs": []
    },
    {
      "cell_type": "code",
      "metadata": {
        "id": "S2MH8PCqpElt",
        "colab_type": "code",
        "colab": {}
      },
      "source": [
        "from io import BytesIO\n",
        "import tensorflow as tf\n",
        "import numpy as np\n",
        "from tensorflow.python.lib.io import file_io"
      ],
      "execution_count": null,
      "outputs": []
    },
    {
      "cell_type": "code",
      "metadata": {
        "id": "naav1xoZpKvR",
        "colab_type": "code",
        "colab": {}
      },
      "source": [
        "f = BytesIO(file_io.read_file_to_string('gs://quickdraw_dataset/full/numpy_bitmap/ceiling fan.npy', binary_mode=True))\n",
        "fan = np.load(f)\n",
        "f = BytesIO(file_io.read_file_to_string('gs://quickdraw_dataset/full/numpy_bitmap/cat.npy', binary_mode=True))\n",
        "cat = np.load(f)\n",
        "f = BytesIO(file_io.read_file_to_string('gs://quickdraw_dataset/full/numpy_bitmap/camel.npy', binary_mode=True))\n",
        "camel = np.load(f)\n",
        "f = BytesIO(file_io.read_file_to_string('gs://quickdraw_dataset/full/numpy_bitmap/bicycle.npy', binary_mode=True))\n",
        "bicycle = np.load(f)\n",
        "f = BytesIO(file_io.read_file_to_string('gs://quickdraw_dataset/full/numpy_bitmap/camera.npy', binary_mode=True))\n",
        "camera = np.load(f)\n",
        "f = BytesIO(file_io.read_file_to_string('gs://quickdraw_dataset/full/numpy_bitmap/light bulb.npy', binary_mode=True))\n",
        "bulb = np.load(f)\n",
        "f = BytesIO(file_io.read_file_to_string('gs://quickdraw_dataset/full/numpy_bitmap/hand.npy', binary_mode=True))\n",
        "hand = np.load(f)\n",
        "f = BytesIO(file_io.read_file_to_string('gs://quickdraw_dataset/full/numpy_bitmap/car.npy', binary_mode=True))\n",
        "eyeglasses = np.load(f)\n",
        "f = BytesIO(file_io.read_file_to_string('gs://quickdraw_dataset/full/numpy_bitmap/ladder.npy', binary_mode=True))\n",
        "ladder = np.load(f)\n",
        "\n",
        "\n"
      ],
      "execution_count": null,
      "outputs": []
    },
    {
      "cell_type": "code",
      "metadata": {
        "id": "TglzmgdMpQcs",
        "colab_type": "code",
        "colab": {}
      },
      "source": [
        "\n",
        "f = BytesIO(file_io.read_file_to_string('gs://quickdraw_dataset/full/numpy_bitmap/axe.npy', binary_mode=True))\n",
        "axe = np.load(f)"
      ],
      "execution_count": null,
      "outputs": []
    },
    {
      "cell_type": "code",
      "metadata": {
        "id": "xqWlFQgTmkxZ",
        "colab_type": "code",
        "colab": {}
      },
      "source": [
        "fan = np.c_[fan, 1*np.ones(len(fan))]\n",
        "cat = np.c_[cat, 3*np.ones(len(cat))]\n",
        "camel = np.c_[camel, 5*np.ones(len(camel))]\n",
        "bicycle= np.c_[bicycle, 7*np.ones(len(bicycle))]\n",
        "camera= np.c_[camera, 8*np.ones(len(camera))]\n",
        "bulb=np.c_[bulb, 9*np.ones(len(bulb))]\n",
        "hand=np.c_[hand, 10*np.ones(len(hand))]\n",
        "eyeglasses=np.c_[eyeglasses, 12*np.ones(len(eyeglasses))]\n",
        "ladder=np.c_[ladder, 13*np.ones(len(ladder))]"
      ],
      "execution_count": null,
      "outputs": []
    },
    {
      "cell_type": "code",
      "metadata": {
        "id": "6L4nHiBSmuT2",
        "colab_type": "code",
        "colab": {}
      },
      "source": [
        "def plot_samples(input_array, rows=4, cols=5, title=''):\n",
        "    '''\n",
        "    Function to plot 28x28 pixel drawings that are stored in a numpy array.\n",
        "    Specify how many rows and cols of pictures to display (default 4x5).  \n",
        "    If the array contains less images than subplots selected, surplus subplots remain empty.\n",
        "    '''\n",
        "    fig, ax = plt.subplots(figsize=(cols,rows))\n",
        "    ax.axis('off')\n",
        "    plt.title(title)\n",
        "\n",
        "    for i in list(range(0, min(len(input_array),(rows*cols)) )):      \n",
        "        a = fig.add_subplot(rows,cols,i+1)\n",
        "        imgplot = plt.imshow(input_array[i,:784].reshape((28,28)), cmap='gray_r', interpolation='nearest')\n",
        "        plt.xticks([])\n",
        "        plt.yticks([])"
      ],
      "execution_count": null,
      "outputs": []
    },
    {
      "cell_type": "code",
      "metadata": {
        "id": "YRk05JRgT3H6",
        "colab_type": "code",
        "colab": {
          "base_uri": "https://localhost:8080/",
          "height": 252
        },
        "outputId": "830529d0-b21c-46f7-eba1-6bfc3fbe8019"
      },
      "source": [
        "plot_samples(cat\n",
        "             )"
      ],
      "execution_count": null,
      "outputs": [
        {
          "output_type": "display_data",
          "data": {
            "image/png": "[encoded data removed]",
            "text/plain": [
              "<Figure size 360x288 with 21 Axes>"
            ]
          },
          "metadata": {
            "tags": [],
            "needs_background": "light"
          }
        }
      ]
    },
    {
      "cell_type": "code",
      "metadata": {
        "id": "pXqq0837plPU",
        "colab_type": "code",
        "colab": {}
      },
      "source": [
        "X = np.concatenate((fan[:10000, :-1],cat[:10000,:-1], camel[:10000, :-1],bicycle[:10000, :-1],camera[:10000,:-1], bulb[:10000,:-1], hand[:10000, :-1], ladder[:10000, :-1]), axis=0).astype('float32') # all columns but the last\n",
        "y = np.concatenate((fan[:10000,-1], cat[:10000,-1], camel[:10000,-1],bicycle[:10000,-1],camera[:10000,-1],bulb[:10000,-1],hand[:10000,-1],ladder[:10000,-1]), axis=0).astype('float32') # the last column\n",
        "\n",
        "# We than split data between train and test (80 - 20 usual ratio). Normalizing the value between 0 and 1\n",
        "X_train, X_test, y_train, y_test = train_test_split(X/255.,y,test_size=0.2,random_state=0)"
      ],
      "execution_count": null,
      "outputs": []
    },
    {
      "cell_type": "code",
      "metadata": {
        "id": "HGTGjgKZppJj",
        "colab_type": "code",
        "colab": {}
      },
      "source": [
        "y_train_cnn = np_utils.to_categorical(y_train)\n",
        "y_test_cnn = np_utils.to_categorical(y_test)\n",
        "num_classes = y_test_cnn.shape[1]"
      ],
      "execution_count": null,
      "outputs": []
    },
    {
      "cell_type": "code",
      "metadata": {
        "id": "9mMF9dX3pstl",
        "colab_type": "code",
        "colab": {}
      },
      "source": [
        "X_train_cnn = X_train.reshape(X_train.shape[0], 1, 28, 28).astype('float32')\n",
        "X_test_cnn = X_test.reshape(X_test.shape[0], 1, 28, 28).astype('float32')"
      ],
      "execution_count": null,
      "outputs": []
    },
    {
      "cell_type": "code",
      "metadata": {
        "id": "irQm6dgmnOgA",
        "colab_type": "code",
        "colab": {}
      },
      "source": [
        "def cnn_model():\n",
        "    # create model\n",
        "    model = Sequential()\n",
        "    model.add(Conv2D(30, (3, 3), input_shape=(1, 28, 28), activation='relu',data_format='channels_first'))\n",
        "    model.add(MaxPooling2D(pool_size=(2, 2)))\n",
        "    model.add(Conv2D(15, (3, 3), activation='relu'))\n",
        "    model.add(MaxPooling2D(pool_size=(2, 2)))\n",
        "    model.add(Dropout(0.2))\n",
        "    model.add(Flatten())\n",
        "    model.add(Dense(128, activation='relu'))\n",
        "    model.add(Dense(50, activation='relu'))\n",
        "    model.add(Dense(num_classes, activation='softmax'))\n",
        "    # Compile model\n",
        "    model.compile(loss='categorical_crossentropy', optimizer='adam', metrics=['accuracy'])\n",
        "    return model"
      ],
      "execution_count": null,
      "outputs": []
    },
    {
      "cell_type": "code",
      "metadata": {
        "id": "yXmUWJo2rRUe",
        "colab_type": "code",
        "colab": {
          "base_uri": "https://localhost:8080/",
          "height": 52
        },
        "outputId": "3a7ab8f9-8571-4f9d-9e9f-5a25feff38c2"
      },
      "source": [
        "\n",
        "import tensorflow as tf\n",
        "import keras.backend.tensorflow_backend as tfback\n",
        "\n",
        "print(\"tf.__version__ is\", tf.__version__)\n",
        "print(\"tf.keras.__version__ is:\", tf.keras.__version__)\n",
        "\n",
        "def _get_available_gpus():\n",
        "    #global _LOCAL_DEVICES\n",
        "    if tfback._LOCAL_DEVICES is None:\n",
        "        devices = tf.config.list_logical_devices()\n",
        "        tfback._LOCAL_DEVICES = [x.name for x in devices]\n",
        "    return [x for x in tfback._LOCAL_DEVICES if 'device:gpu' in x.lower()]\n",
        "\n",
        "tfback._get_available_gpus = _get_available_gpus"
      ],
      "execution_count": null,
      "outputs": [
        {
          "output_type": "stream",
          "text": [
            "tf.__version__ is 2.2.0\n",
            "tf.keras.__version__ is: 2.3.0-tf\n"
          ],
          "name": "stdout"
        }
      ]
    },
    {
      "cell_type": "code",
      "metadata": {
        "id": "2ZhEz6f7sHZ2",
        "colab_type": "code",
        "colab": {}
      },
      "source": [
        "K.common.set_image_dim_ordering('th')"
      ],
      "execution_count": null,
      "outputs": []
    },
    {
      "cell_type": "code",
      "metadata": {
        "id": "AZ1egAOmnSYn",
        "colab_type": "code",
        "colab": {
          "base_uri": "https://localhost:8080/",
          "height": 746
        },
        "outputId": "09b75296-53d9-4456-fa14-072d2db65abe"
      },
      "source": [
        "np.random.seed(0)\n",
        "# build the model\n",
        "model_cnn = cnn_model()\n",
        "# Fit the model\n",
        "model_cnn.fit(X_train_cnn, y_train_cnn, validation_data=(X_test_cnn, y_test_cnn), epochs=20, batch_size=200)\n",
        "# Final evaluation of the model\n",
        "scores = model_cnn.evaluate(X_test_cnn, y_test_cnn, verbose=0)\n",
        "print('Final CNN accuracy: ', scores[1])"
      ],
      "execution_count": null,
      "outputs": [
        {
          "output_type": "stream",
          "text": [
            "Train on 64000 samples, validate on 16000 samples\n",
            "Epoch 1/20\n",
            "64000/64000 [==============================] - 48s 754us/step - loss: 0.8169 - accuracy: 0.7372 - val_loss: 0.4377 - val_accuracy: 0.8712\n",
            "Epoch 2/20\n",
            "64000/64000 [==============================] - 48s 745us/step - loss: 0.4139 - accuracy: 0.8762 - val_loss: 0.3106 - val_accuracy: 0.9099\n",
            "Epoch 3/20\n",
            "64000/64000 [==============================] - 47s 736us/step - loss: 0.3297 - accuracy: 0.9025 - val_loss: 0.2766 - val_accuracy: 0.9162\n",
            "Epoch 4/20\n",
            "64000/64000 [==============================] - 48s 751us/step - loss: 0.2802 - accuracy: 0.9170 - val_loss: 0.2370 - val_accuracy: 0.9301\n",
            "Epoch 5/20\n",
            "64000/64000 [==============================] - 47s 740us/step - loss: 0.2489 - accuracy: 0.9263 - val_loss: 0.2240 - val_accuracy: 0.9326\n",
            "Epoch 6/20\n",
            "64000/64000 [==============================] - 49s 766us/step - loss: 0.2270 - accuracy: 0.9320 - val_loss: 0.1943 - val_accuracy: 0.9404\n",
            "Epoch 7/20\n",
            "64000/64000 [==============================] - 51s 801us/step - loss: 0.2104 - accuracy: 0.9362 - val_loss: 0.1924 - val_accuracy: 0.9399\n",
            "Epoch 8/20\n",
            "64000/64000 [==============================] - 50s 777us/step - loss: 0.1951 - accuracy: 0.9409 - val_loss: 0.1846 - val_accuracy: 0.9432\n",
            "Epoch 9/20\n",
            "64000/64000 [==============================] - 50s 781us/step - loss: 0.1836 - accuracy: 0.9446 - val_loss: 0.1756 - val_accuracy: 0.9459\n",
            "Epoch 10/20\n",
            "64000/64000 [==============================] - 49s 772us/step - loss: 0.1748 - accuracy: 0.9465 - val_loss: 0.1697 - val_accuracy: 0.9484\n",
            "Epoch 11/20\n",
            "64000/64000 [==============================] - 50s 783us/step - loss: 0.1684 - accuracy: 0.9485 - val_loss: 0.1654 - val_accuracy: 0.9495\n",
            "Epoch 12/20\n",
            "64000/64000 [==============================] - 48s 756us/step - loss: 0.1629 - accuracy: 0.9500 - val_loss: 0.1666 - val_accuracy: 0.9496\n",
            "Epoch 13/20\n",
            "64000/64000 [==============================] - 48s 748us/step - loss: 0.1537 - accuracy: 0.9529 - val_loss: 0.1610 - val_accuracy: 0.9515\n",
            "Epoch 14/20\n",
            "64000/64000 [==============================] - 48s 755us/step - loss: 0.1489 - accuracy: 0.9537 - val_loss: 0.1591 - val_accuracy: 0.9518\n",
            "Epoch 15/20\n",
            "64000/64000 [==============================] - 47s 739us/step - loss: 0.1425 - accuracy: 0.9559 - val_loss: 0.1559 - val_accuracy: 0.9530\n",
            "Epoch 16/20\n",
            "64000/64000 [==============================] - 48s 753us/step - loss: 0.1380 - accuracy: 0.9573 - val_loss: 0.1575 - val_accuracy: 0.9529\n",
            "Epoch 17/20\n",
            "64000/64000 [==============================] - 47s 739us/step - loss: 0.1320 - accuracy: 0.9592 - val_loss: 0.1572 - val_accuracy: 0.9514\n",
            "Epoch 18/20\n",
            "64000/64000 [==============================] - 48s 750us/step - loss: 0.1290 - accuracy: 0.9593 - val_loss: 0.1531 - val_accuracy: 0.9532\n",
            "Epoch 19/20\n",
            "64000/64000 [==============================] - 47s 738us/step - loss: 0.1240 - accuracy: 0.9607 - val_loss: 0.1545 - val_accuracy: 0.9526\n",
            "Epoch 20/20\n",
            "64000/64000 [==============================] - 47s 741us/step - loss: 0.1181 - accuracy: 0.9627 - val_loss: 0.1573 - val_accuracy: 0.9532\n",
            "Final CNN accuracy:  0.953249990940094\n"
          ],
          "name": "stdout"
        }
      ]
    },
    {
      "cell_type": "code",
      "metadata": {
        "id": "uKvD_Ts1vSh3",
        "colab_type": "code",
        "colab": {}
      },
      "source": [
        "model_cnn.save(\"model.h5\")"
      ],
      "execution_count": null,
      "outputs": []
    },
    {
      "cell_type": "code",
      "metadata": {
        "id": "SVFIQeMuv8Vs",
        "colab_type": "code",
        "colab": {
          "base_uri": "https://localhost:8080/",
          "height": 1000
        },
        "outputId": "7d773a7b-d1ff-4165-ca19-2e2239e1b4bc"
      },
      "source": [
        "!pip install tensorflowjs"
      ],
      "execution_count": null,
      "outputs": [
        {
          "output_type": "stream",
          "text": [
            "Collecting tensorflowjs\n",
            "\u001b[?25l  Downloading https://files.pythonhosted.org/packages/4a/b8/16f378a20a2ee7736233574f65a6cf2154cf8965a8890d27f3d2f33595b2/tensorflowjs-2.0.1-py3-none-any.whl (60kB)\n",
            "\u001b[K     |████████████████████████████████| 61kB 1.8MB/s \n",
            "\u001b[?25hRequirement already satisfied: numpy>=1.16.4 in /usr/local/lib/python3.6/dist-packages (from tensorflowjs) (1.18.5)\n",
            "Collecting PyInquirer==1.0.3\n",
            "  Downloading https://files.pythonhosted.org/packages/fb/4c/434b7c454010a284b49d6f1d446fe8dc5960415613d8c0225b9e2efb6724/PyInquirer-1.0.3.tar.gz\n",
            "Collecting tensorflow-hub==0.7.0\n",
            "\u001b[?25l  Downloading https://files.pythonhosted.org/packages/00/0e/a91780d07592b1abf9c91344ce459472cc19db3b67fdf3a61dca6ebb2f5c/tensorflow_hub-0.7.0-py2.py3-none-any.whl (89kB)\n",
            "\u001b[K     |████████████████████████████████| 92kB 3.4MB/s \n",
            "\u001b[?25hRequirement already satisfied: h5py>=2.8.0 in /usr/local/lib/python3.6/dist-packages (from tensorflowjs) (2.10.0)\n",
            "Collecting tensorflow-cpu>=2.1.0<3\n",
            "\u001b[?25l  Downloading https://files.pythonhosted.org/packages/d6/11/15bd5e6ff6a1a914074da97b2bd688cc06c1cfe9e85887d7b0cdde13e790/tensorflow_cpu-2.3.0rc0-cp36-cp36m-manylinux2010_x86_64.whl (137.3MB)\n",
            "\u001b[K     |████████████████████████████████| 137.3MB 96kB/s \n",
            "\u001b[?25hRequirement already satisfied: six>=1.12.0 in /usr/local/lib/python3.6/dist-packages (from tensorflowjs) (1.12.0)\n",
            "Collecting prompt_toolkit==1.0.14\n",
            "\u001b[?25l  Downloading https://files.pythonhosted.org/packages/ee/3d/b25d35a9f0d381dd1c02d8e04b37c353caaaff4bc32150328eeebe4931f5/prompt_toolkit-1.0.14-py3-none-any.whl (248kB)\n",
            "\u001b[K     |████████████████████████████████| 256kB 48.6MB/s \n",
            "\u001b[?25hCollecting Pygments>=2.2.0\n",
            "\u001b[?25l  Downloading https://files.pythonhosted.org/packages/2d/68/106af3ae51daf807e9cdcba6a90e518954eb8b70341cee52995540a53ead/Pygments-2.6.1-py3-none-any.whl (914kB)\n",
            "\u001b[K     |████████████████████████████████| 921kB 46.2MB/s \n",
            "\u001b[?25hRequirement already satisfied: regex>=2016.11.21 in /usr/local/lib/python3.6/dist-packages (from PyInquirer==1.0.3->tensorflowjs) (2019.12.20)\n",
            "Requirement already satisfied: protobuf>=3.4.0 in /usr/local/lib/python3.6/dist-packages (from tensorflow-hub==0.7.0->tensorflowjs) (3.10.0)\n",
            "Requirement already satisfied: tensorboard<2.3.0,>=2.2.0 in /usr/local/lib/python3.6/dist-packages (from tensorflow-cpu>=2.1.0<3->tensorflowjs) (2.2.2)\n",
            "Requirement already satisfied: astunparse==1.6.3 in /usr/local/lib/python3.6/dist-packages (from tensorflow-cpu>=2.1.0<3->tensorflowjs) (1.6.3)\n",
            "Requirement already satisfied: absl-py>=0.7.0 in /usr/local/lib/python3.6/dist-packages (from tensorflow-cpu>=2.1.0<3->tensorflowjs) (0.9.0)\n",
            "Requirement already satisfied: opt-einsum>=2.3.2 in /usr/local/lib/python3.6/dist-packages (from tensorflow-cpu>=2.1.0<3->tensorflowjs) (3.2.1)\n",
            "Collecting tf-estimator-nightly<2.3.0.dev2020062302,>=2.3.0.dev2020062301\n",
            "\u001b[?25l  Downloading https://files.pythonhosted.org/packages/17/3b/fb9aafd734da258411bff2a600cabff65c7d201782318791b72422bd973d/tf_estimator_nightly-2.3.0.dev2020062301-py2.py3-none-any.whl (459kB)\n",
            "\u001b[K     |████████████████████████████████| 460kB 46.2MB/s \n",
            "\u001b[?25hRequirement already satisfied: wrapt>=1.11.1 in /usr/local/lib/python3.6/dist-packages (from tensorflow-cpu>=2.1.0<3->tensorflowjs) (1.12.1)\n",
            "Requirement already satisfied: termcolor>=1.1.0 in /usr/local/lib/python3.6/dist-packages (from tensorflow-cpu>=2.1.0<3->tensorflowjs) (1.1.0)\n",
            "Requirement already satisfied: grpcio>=1.8.6 in /usr/local/lib/python3.6/dist-packages (from tensorflow-cpu>=2.1.0<3->tensorflowjs) (1.30.0)\n",
            "Requirement already satisfied: wheel>=0.26 in /usr/local/lib/python3.6/dist-packages (from tensorflow-cpu>=2.1.0<3->tensorflowjs) (0.34.2)\n",
            "Requirement already satisfied: gast==0.3.3 in /usr/local/lib/python3.6/dist-packages (from tensorflow-cpu>=2.1.0<3->tensorflowjs) (0.3.3)\n",
            "Requirement already satisfied: keras-preprocessing<1.2,>=1.1.1 in /usr/local/lib/python3.6/dist-packages (from tensorflow-cpu>=2.1.0<3->tensorflowjs) (1.1.2)\n",
            "Requirement already satisfied: scipy==1.4.1 in /usr/local/lib/python3.6/dist-packages (from tensorflow-cpu>=2.1.0<3->tensorflowjs) (1.4.1)\n",
            "Requirement already satisfied: google-pasta>=0.1.8 in /usr/local/lib/python3.6/dist-packages (from tensorflow-cpu>=2.1.0<3->tensorflowjs) (0.2.0)\n",
            "Requirement already satisfied: wcwidth in /usr/local/lib/python3.6/dist-packages (from prompt_toolkit==1.0.14->PyInquirer==1.0.3->tensorflowjs) (0.2.5)\n",
            "Requirement already satisfied: setuptools in /usr/local/lib/python3.6/dist-packages (from protobuf>=3.4.0->tensorflow-hub==0.7.0->tensorflowjs) (47.3.1)\n",
            "Requirement already satisfied: werkzeug>=0.11.15 in /usr/local/lib/python3.6/dist-packages (from tensorboard<2.3.0,>=2.2.0->tensorflow-cpu>=2.1.0<3->tensorflowjs) (1.0.1)\n",
            "Requirement already satisfied: markdown>=2.6.8 in /usr/local/lib/python3.6/dist-packages (from tensorboard<2.3.0,>=2.2.0->tensorflow-cpu>=2.1.0<3->tensorflowjs) (3.2.2)\n",
            "Requirement already satisfied: google-auth<2,>=1.6.3 in /usr/local/lib/python3.6/dist-packages (from tensorboard<2.3.0,>=2.2.0->tensorflow-cpu>=2.1.0<3->tensorflowjs) (1.17.2)\n",
            "Requirement already satisfied: google-auth-oauthlib<0.5,>=0.4.1 in /usr/local/lib/python3.6/dist-packages (from tensorboard<2.3.0,>=2.2.0->tensorflow-cpu>=2.1.0<3->tensorflowjs) (0.4.1)\n",
            "Requirement already satisfied: requests<3,>=2.21.0 in /usr/local/lib/python3.6/dist-packages (from tensorboard<2.3.0,>=2.2.0->tensorflow-cpu>=2.1.0<3->tensorflowjs) (2.23.0)\n",
            "Requirement already satisfied: tensorboard-plugin-wit>=1.6.0 in /usr/local/lib/python3.6/dist-packages (from tensorboard<2.3.0,>=2.2.0->tensorflow-cpu>=2.1.0<3->tensorflowjs) (1.6.0.post3)\n",
            "Requirement already satisfied: importlib-metadata; python_version < \"3.8\" in /usr/local/lib/python3.6/dist-packages (from markdown>=2.6.8->tensorboard<2.3.0,>=2.2.0->tensorflow-cpu>=2.1.0<3->tensorflowjs) (1.6.1)\n",
            "Requirement already satisfied: cachetools<5.0,>=2.0.0 in /usr/local/lib/python3.6/dist-packages (from google-auth<2,>=1.6.3->tensorboard<2.3.0,>=2.2.0->tensorflow-cpu>=2.1.0<3->tensorflowjs) (4.1.0)\n",
            "Requirement already satisfied: pyasn1-modules>=0.2.1 in /usr/local/lib/python3.6/dist-packages (from google-auth<2,>=1.6.3->tensorboard<2.3.0,>=2.2.0->tensorflow-cpu>=2.1.0<3->tensorflowjs) (0.2.8)\n",
            "Requirement already satisfied: rsa<5,>=3.1.4; python_version >= \"3\" in /usr/local/lib/python3.6/dist-packages (from google-auth<2,>=1.6.3->tensorboard<2.3.0,>=2.2.0->tensorflow-cpu>=2.1.0<3->tensorflowjs) (4.6)\n",
            "Requirement already satisfied: requests-oauthlib>=0.7.0 in /usr/local/lib/python3.6/dist-packages (from google-auth-oauthlib<0.5,>=0.4.1->tensorboard<2.3.0,>=2.2.0->tensorflow-cpu>=2.1.0<3->tensorflowjs) (1.3.0)\n",
            "Requirement already satisfied: certifi>=2017.4.17 in /usr/local/lib/python3.6/dist-packages (from requests<3,>=2.21.0->tensorboard<2.3.0,>=2.2.0->tensorflow-cpu>=2.1.0<3->tensorflowjs) (2020.6.20)\n",
            "Requirement already satisfied: chardet<4,>=3.0.2 in /usr/local/lib/python3.6/dist-packages (from requests<3,>=2.21.0->tensorboard<2.3.0,>=2.2.0->tensorflow-cpu>=2.1.0<3->tensorflowjs) (3.0.4)\n",
            "Requirement already satisfied: urllib3!=1.25.0,!=1.25.1,<1.26,>=1.21.1 in /usr/local/lib/python3.6/dist-packages (from requests<3,>=2.21.0->tensorboard<2.3.0,>=2.2.0->tensorflow-cpu>=2.1.0<3->tensorflowjs) (1.24.3)\n",
            "Requirement already satisfied: idna<3,>=2.5 in /usr/local/lib/python3.6/dist-packages (from requests<3,>=2.21.0->tensorboard<2.3.0,>=2.2.0->tensorflow-cpu>=2.1.0<3->tensorflowjs) (2.9)\n",
            "Requirement already satisfied: zipp>=0.5 in /usr/local/lib/python3.6/dist-packages (from importlib-metadata; python_version < \"3.8\"->markdown>=2.6.8->tensorboard<2.3.0,>=2.2.0->tensorflow-cpu>=2.1.0<3->tensorflowjs) (3.1.0)\n",
            "Requirement already satisfied: pyasn1<0.5.0,>=0.4.6 in /usr/local/lib/python3.6/dist-packages (from pyasn1-modules>=0.2.1->google-auth<2,>=1.6.3->tensorboard<2.3.0,>=2.2.0->tensorflow-cpu>=2.1.0<3->tensorflowjs) (0.4.8)\n",
            "Requirement already satisfied: oauthlib>=3.0.0 in /usr/local/lib/python3.6/dist-packages (from requests-oauthlib>=0.7.0->google-auth-oauthlib<0.5,>=0.4.1->tensorboard<2.3.0,>=2.2.0->tensorflow-cpu>=2.1.0<3->tensorflowjs) (3.1.0)\n",
            "Building wheels for collected packages: PyInquirer\n",
            "  Building wheel for PyInquirer (setup.py) ... \u001b[?25l\u001b[?25hdone\n",
            "  Created wheel for PyInquirer: filename=PyInquirer-1.0.3-cp36-none-any.whl size=32851 sha256=fc3a343f4fd5c792cbad020e4a0696a38b2dceb1e32a1fda7b1321db9ddb03f4\n",
            "  Stored in directory: /root/.cache/pip/wheels/52/6c/b1/3e4b0e8daf42a92883c7641c0ea8ffb62e0490ebed2faa55ad\n",
            "Successfully built PyInquirer\n",
            "\u001b[31mERROR: datascience 0.10.6 has requirement folium==0.2.1, but you'll have folium 0.8.3 which is incompatible.\u001b[0m\n",
            "Installing collected packages: prompt-toolkit, Pygments, PyInquirer, tensorflow-hub, tf-estimator-nightly, tensorflow-cpu, tensorflowjs\n",
            "  Found existing installation: prompt-toolkit 1.0.18\n",
            "    Uninstalling prompt-toolkit-1.0.18:\n",
            "      Successfully uninstalled prompt-toolkit-1.0.18\n",
            "  Found existing installation: Pygments 2.1.3\n",
            "    Uninstalling Pygments-2.1.3:\n",
            "      Successfully uninstalled Pygments-2.1.3\n",
            "  Found existing installation: tensorflow-hub 0.8.0\n",
            "    Uninstalling tensorflow-hub-0.8.0:\n",
            "      Successfully uninstalled tensorflow-hub-0.8.0\n",
            "Successfully installed PyInquirer-1.0.3 Pygments-2.6.1 prompt-toolkit-1.0.14 tensorflow-cpu-2.3.0rc0 tensorflow-hub-0.7.0 tensorflowjs-2.0.1 tf-estimator-nightly-2.3.0.dev2020062301\n"
          ],
          "name": "stdout"
        },
        {
          "output_type": "display_data",
          "data": {
            "application/vnd.colab-display-data+json": {
              "pip_warning": {
                "packages": [
                  "prompt_toolkit",
                  "pygments",
                  "tensorflow"
                ]
              }
            }
          },
          "metadata": {
            "tags": []
          }
        }
      ]
    },
    {
      "cell_type": "code",
      "metadata": {
        "id": "ZwyJbvrrwG8Y",
        "colab_type": "code",
        "colab": {}
      },
      "source": [
        "!tensorflowjs_converter --input_format keras '/content/model.h5' '/content/model'"
      ],
      "execution_count": null,
      "outputs": []
    }
  ]
}